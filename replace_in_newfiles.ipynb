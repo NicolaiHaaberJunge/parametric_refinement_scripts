{
 "cells": [
  {
   "cell_type": "code",
   "execution_count": 21,
   "metadata": {
    "collapsed": false
   },
   "outputs": [
    {
     "name": "stdout",
     "output_type": "stream",
     "text": [
      "first file number: 5\n",
      "last file number : 6\n",
      "string to replace: xxxx\n",
      "input file: start\n",
      "output file: big\n"
     ]
    }
   ],
   "source": [
    "#! /usr/bin/env python\n",
    "import numpy as np\n",
    "x,y = int(input(\"first file number: \")), int(input(\"last file number : \"))\n",
    "h = input(\"string to replace: \")\n",
    "z = input(\"input file: \") \n",
    "ze = input(\"output file: \")\n",
    "q = x-1\n",
    "\n",
    "while q<y:\n",
    "    q = q+1\n",
    "    formatted_q = '%03d' % q # set nuber of digits with the '%03d' where 03 = 3 digits, i.e. 1 becomes 001.\n",
    "    fin, fout = open(z+'.inp'), open(ze+formatted_q+'.inp', 'w')\n",
    "    #column=np.loadtxt(fname='BiMo1_2_'+formatted_x+'_0_sino_tmean20.xy', usecols=(1,))\n",
    "    out = '{0}'.format(formatted_q)\n",
    "    s1 = fin.read()\n",
    "    fout.write( s1.replace ((h), out))\n",
    "    fin.close(), fout.close()\n",
    "    continue\n",
    "       \n"
   ]
  },
  {
   "cell_type": "code",
   "execution_count": null,
   "metadata": {
    "collapsed": true
   },
   "outputs": [],
   "source": []
  }
 ],
 "metadata": {
  "kernelspec": {
   "display_name": "Python 3",
   "language": "python",
   "name": "python3"
  },
  "language_info": {
   "codemirror_mode": {
    "name": "ipython",
    "version": 3
   },
   "file_extension": ".py",
   "mimetype": "text/x-python",
   "name": "python",
   "nbconvert_exporter": "python",
   "pygments_lexer": "ipython3",
   "version": "3.6.0"
  }
 },
 "nbformat": 4,
 "nbformat_minor": 2
}
