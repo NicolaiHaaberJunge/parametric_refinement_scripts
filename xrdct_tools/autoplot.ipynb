{
 "cells": [
  {
   "cell_type": "code",
   "execution_count": 3,
   "metadata": {},
   "outputs": [],
   "source": [
    "import os\n",
    "import numpy as np\n",
    "import pandas as pd\n",
    "import matplotlib.pyplot as plt\n",
    "from mpl_toolkits.axes_grid1 import make_axes_locatable\n",
    "import seaborn as sns\n",
    "\n",
    "def parse_data(filename, colnum, sep=':', savecsv=False):\n",
    "    '''\n",
    "    Args:\n",
    "        filename (str): name of the data file\n",
    "        colnum (int): number of the column with the data to plot\n",
    "        sep (str): value separator in the file\n",
    "        savecsv (bool): a flag to mark if a csv file should be save with parsed data\n",
    "    '''\n",
    "    \n",
    "    # read the data from file\n",
    "    df = pd.read_csv(filename, sep=sep, header=None, comment='#')\n",
    "    \n",
    "    # extract indices from the first column in the file\n",
    "    ind = df.iloc[:, 0].str.split('_', expand=True)\n",
    "    ind.rename(columns={1: 'ind_x', 2: 'ind_y'}, inplace=True)\n",
    "    ind.loc[:, 'ind_x'] = ind['ind_x'].astype(int)\n",
    "    ind.loc[:, 'ind_y'] = ind['ind_y'].astype(int)\n",
    "    \n",
    "    # merged the indices with the main df\n",
    "    df = df.join(ind[['ind_x', 'ind_y']])\n",
    "    \n",
    "    # pivot the dataframe to \n",
    "    matrix = df.pivot(index='ind_x', columns='ind_y', values=colnum)\n",
    "\n",
    "    if savecsv:\n",
    "        mname = os.path.splitext(os.path.basename(filename))[0] + '_col-{0:d}'.format(colnum) + '.csv'\n",
    "        np.savetxt(mname, matrix)\n",
    "\n",
    "    return matrix\n",
    "    ##trial with loop\n",
    "\n",
    "firstfile = 0\n",
    "lastfile = 62\n",
    "q = firstfile-1\n",
    "name = 'TC'\n",
    "col_num = 23   # 23 =total coke; 17 = a-b\n",
    "upper_lim = 6 #coke vmax=6, a-b vmax=0.18\n",
    "\n",
    "while q<lastfile:\n",
    "    q=q+1\n",
    "    formatted_q ='%03d' % q \n",
    "    # set nuber of digits with the '%03d' where 03 = 3 digits, i.e. 1 becomes 001.\n",
    "    m = parse_data('Results_'+formatted_q+'_000.txt', colnum= col_num)\n",
    "    m.head()\n",
    "    plt.figure(figsize=(14, 12))\n",
    "    cokemap = sns.heatmap(m, cmap='hot', xticklabels=True, yticklabels=True, vmin=0, vmax = upper_lim)\n",
    "    fig = cokemap.get_figure()\n",
    "    fig.savefig(name+formatted_q+'.png') \n",
    "    plt.close()"
   ]
  },
  {
   "cell_type": "code",
   "execution_count": null,
   "metadata": {
    "collapsed": true
   },
   "outputs": [],
   "source": []
  }
 ],
 "metadata": {
  "kernelspec": {
   "display_name": "Python 3",
   "language": "python",
   "name": "python3"
  },
  "language_info": {
   "codemirror_mode": {
    "name": "ipython",
    "version": 3
   },
   "file_extension": ".py",
   "mimetype": "text/x-python",
   "name": "python",
   "nbconvert_exporter": "python",
   "pygments_lexer": "ipython3",
   "version": "3.6.3"
  }
 },
 "nbformat": 4,
 "nbformat_minor": 2
}
